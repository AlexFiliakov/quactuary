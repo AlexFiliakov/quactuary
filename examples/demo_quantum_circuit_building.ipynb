{
 "cells": [
  {
   "cell_type": "markdown",
   "metadata": {},
   "source": [
    "# Quantum Circuit Building Demo\n",
    "\n",
    "This notebook demonstrates the quantum circuit building capabilities in quactuary, including:\n",
    "- Basic circuit construction with CircuitBuilder\n",
    "- Parameterized circuits for variational algorithms\n",
    "- Common circuit templates\n",
    "- Circuit optimization techniques"
   ]
  },
  {
   "cell_type": "code",
   "execution_count": null,
   "metadata": {},
   "outputs": [],
   "source": [
    "# Import required libraries\n",
    "import numpy as np\n",
    "import matplotlib.pyplot as plt\n",
    "from qiskit import QuantumCircuit\n",
    "from qiskit.visualization import circuit_drawer\n",
    "\n",
    "# Import quactuary quantum modules\n",
    "from quactuary.quantum.circuits.builders import CircuitBuilder, ParameterizedCircuitBuilder\n",
    "from quactuary.quantum.circuits.templates import (\n",
    "    create_uniform_superposition,\n",
    "    create_ghz_state,\n",
    "    create_qft_circuit,\n",
    "    create_amplitude_encoding_circuit,\n",
    "    create_probability_distribution_loader,\n",
    "    create_grover_oracle,\n",
    "    create_diffusion_operator,\n",
    "    create_variational_ansatz,\n",
    "    create_hardware_efficient_ansatz\n",
    ")\n",
    "from quactuary.quantum.quantum_types import CircuitMetrics"
   ]
  },
  {
   "cell_type": "markdown",
   "metadata": {},
   "source": [
    "## 1. Basic Circuit Building with CircuitBuilder\n",
    "\n",
    "The `CircuitBuilder` class provides a fluent interface for constructing quantum circuits."
   ]
  },
  {
   "cell_type": "code",
   "execution_count": null,
   "metadata": {},
   "outputs": [],
   "source": [
    "# Create a simple quantum circuit using the builder pattern\n",
    "builder = CircuitBuilder(num_qubits=4, name=\"simple_circuit\")\n",
    "\n",
    "# Build circuit with method chaining\n",
    "circuit = (builder\n",
    "    .add_hadamard_layer([0, 1])  # Apply H gates to qubits 0 and 1\n",
    "    .add_entangling_layer(\"linear\")  # Linear entanglement pattern\n",
    "    .add_barrier()  # Visual separator\n",
    "    .add_rotation_layer(\"y\", [np.pi/4, np.pi/3, np.pi/2, np.pi])\n",
    "    .add_measurement()  # Measure all qubits\n",
    "    .build()\n",
    ")\n",
    "\n",
    "# Display the circuit\n",
    "print(\"Simple Circuit:\")\n",
    "circuit.draw(output='mpl', style='iqp')"
   ]
  },
  {
   "cell_type": "code",
   "execution_count": null,
   "metadata": {},
   "outputs": [],
   "source": [
    "# Demonstrate different entanglement patterns\n",
    "patterns = [\"linear\", \"circular\", \"all_to_all\"]\n",
    "fig, axes = plt.subplots(1, 3, figsize=(15, 4))\n",
    "\n",
    "for i, pattern in enumerate(patterns):\n",
    "    builder = CircuitBuilder(num_qubits=4)\n",
    "    circuit = (builder\n",
    "        .add_hadamard_layer()\n",
    "        .add_entangling_layer(pattern)\n",
    "        .build()\n",
    "    )\n",
    "    circuit.draw(output='mpl', ax=axes[i], style='iqp')\n",
    "    axes[i].set_title(f'{pattern.title()} Entanglement')\n",
    "\n",
    "plt.tight_layout()\n",
    "plt.show()"
   ]
  },
  {
   "cell_type": "markdown",
   "metadata": {},
   "source": [
    "## 2. Parameterized Circuits for Variational Algorithms\n",
    "\n",
    "Parameterized circuits are essential for variational quantum algorithms like VQE and QAOA."
   ]
  },
  {
   "cell_type": "code",
   "execution_count": null,
   "metadata": {},
   "outputs": [],
   "source": [
    "# Create a parameterized circuit for variational algorithms\n",
    "param_builder = ParameterizedCircuitBuilder(\n",
    "    num_qubits=3, \n",
    "    num_params=9,  # 3 layers × 3 qubits\n",
    "    param_prefix=\"θ\"\n",
    ")\n",
    "\n",
    "# Build a variational circuit with 3 layers\n",
    "for layer in range(3):\n",
    "    param_builder = (param_builder\n",
    "        .add_parameterized_rotation_layer('y')\n",
    "        .add_entangling_layer('linear')\n",
    "        .add_barrier()\n",
    "    )\n",
    "\n",
    "variational_circuit = param_builder.build()\n",
    "\n",
    "print(f\"Number of parameters: {variational_circuit.num_parameters}\")\n",
    "print(f\"Parameters: {list(variational_circuit.parameters)}\")\n",
    "variational_circuit.draw(output='mpl', style='iqp')"
   ]
  },
  {
   "cell_type": "code",
   "execution_count": null,
   "metadata": {},
   "outputs": [],
   "source": [
    "# Demonstrate parameter binding\n",
    "# Generate random parameter values\n",
    "param_values = np.random.uniform(0, 2*np.pi, variational_circuit.num_parameters)\n",
    "\n",
    "# Bind parameters to create a concrete circuit\n",
    "bound_circuit = variational_circuit.assign_parameters(param_values)\n",
    "\n",
    "print(\"Circuit after parameter binding:\")\n",
    "bound_circuit.draw(output='mpl', style='iqp')"
   ]
  },
  {
   "cell_type": "markdown",
   "metadata": {},
   "source": [
    "## 3. Circuit Templates\n",
    "\n",
    "Pre-built circuit templates for common quantum computing patterns."
   ]
  },
  {
   "cell_type": "code",
   "execution_count": null,
   "metadata": {},
   "outputs": [],
   "source": [
    "# Create uniform superposition\n",
    "uniform_circuit = create_uniform_superposition(num_qubits=5)\n",
    "print(\"Uniform Superposition Circuit:\")\n",
    "uniform_circuit.draw(output='mpl')"
   ]
  },
  {
   "cell_type": "code",
   "execution_count": null,
   "metadata": {},
   "outputs": [],
   "source": [
    "# Create GHZ state\n",
    "ghz_circuit = create_ghz_state(num_qubits=4)\n",
    "print(\"GHZ State Preparation Circuit:\")\n",
    "ghz_circuit.draw(output='mpl')"
   ]
  },
  {
   "cell_type": "code",
   "execution_count": null,
   "metadata": {},
   "outputs": [],
   "source": [
    "# Create Quantum Fourier Transform circuit\n",
    "qft_circuit = create_qft_circuit(num_qubits=4, insert_barriers=True)\n",
    "print(\"Quantum Fourier Transform Circuit:\")\n",
    "qft_circuit.draw(output='mpl', fold=-1)"
   ]
  },
  {
   "cell_type": "code",
   "execution_count": null,
   "metadata": {},
   "outputs": [],
   "source": [
    "# Create inverse QFT\n",
    "iqft_circuit = create_qft_circuit(num_qubits=4, inverse=True, insert_barriers=True)\n",
    "print(\"Inverse Quantum Fourier Transform Circuit:\")\n",
    "iqft_circuit.draw(output='mpl', fold=-1)"
   ]
  },
  {
   "cell_type": "markdown",
   "metadata": {},
   "source": [
    "## 4. Amplitude Encoding for Classical Data\n",
    "\n",
    "Encode classical data into quantum amplitudes for quantum algorithms."
   ]
  },
  {
   "cell_type": "code",
   "execution_count": null,
   "metadata": {},
   "outputs": [],
   "source": [
    "# Encode a simple probability distribution\n",
    "probabilities = [0.1, 0.2, 0.3, 0.4]\n",
    "prob_circuit = create_probability_distribution_loader(probabilities)\n",
    "\n",
    "print(f\"Encoding {len(probabilities)} probabilities into {prob_circuit.num_qubits} qubits\")\n",
    "print(f\"Probabilities: {probabilities}\")\n",
    "prob_circuit.draw(output='mpl')"
   ]
  },
  {
   "cell_type": "code",
   "execution_count": null,
   "metadata": {},
   "outputs": [],
   "source": [
    "# Encode arbitrary amplitudes\n",
    "# Create a normalized vector representing a quantum state\n",
    "amplitudes = np.array([1, 2, 3, 4, 5, 6, 7, 8], dtype=complex)\n",
    "amplitudes = amplitudes / np.linalg.norm(amplitudes)  # Normalize\n",
    "\n",
    "amp_circuit = create_amplitude_encoding_circuit(amplitudes)\n",
    "print(f\"Encoding {len(amplitudes)} amplitudes into {amp_circuit.num_qubits} qubits\")\n",
    "amp_circuit.draw(output='mpl')"
   ]
  },
  {
   "cell_type": "markdown",
   "metadata": {},
   "source": [
    "## 5. Grover's Algorithm Components\n",
    "\n",
    "Building blocks for Grover's quantum search algorithm."
   ]
  },
  {
   "cell_type": "code",
   "execution_count": null,
   "metadata": {},
   "outputs": [],
   "source": [
    "# Create Grover oracle for marked states\n",
    "marked_states = [5, 10]  # Mark states |101⟩ and |1010⟩\n",
    "oracle = create_grover_oracle(marked_states, num_qubits=4)\n",
    "\n",
    "print(f\"Oracle marking states: {marked_states}\")\n",
    "oracle.draw(output='mpl')"
   ]
  },
  {
   "cell_type": "code",
   "execution_count": null,
   "metadata": {},
   "outputs": [],
   "source": [
    "# Create diffusion operator\n",
    "diffusion = create_diffusion_operator(num_qubits=4)\n",
    "print(\"Grover Diffusion Operator:\")\n",
    "diffusion.draw(output='mpl')"
   ]
  },
  {
   "cell_type": "code",
   "execution_count": null,
   "metadata": {},
   "outputs": [],
   "source": [
    "# Complete Grover's algorithm circuit\n",
    "n_qubits = 4\n",
    "marked = [5, 10]\n",
    "n_iterations = int(np.pi/4 * np.sqrt(2**n_qubits / len(marked)))\n",
    "\n",
    "# Build complete Grover circuit\n",
    "grover = QuantumCircuit(n_qubits)\n",
    "\n",
    "# Initialize with uniform superposition\n",
    "grover.h(range(n_qubits))\n",
    "\n",
    "# Apply Grover iterations\n",
    "oracle = create_grover_oracle(marked, n_qubits)\n",
    "diffusion = create_diffusion_operator(n_qubits)\n",
    "\n",
    "for i in range(n_iterations):\n",
    "    grover.barrier()\n",
    "    grover.compose(oracle, inplace=True)\n",
    "    grover.compose(diffusion, inplace=True)\n",
    "\n",
    "print(f\"Grover's algorithm with {n_iterations} iterations:\")\n",
    "grover.draw(output='mpl', fold=-1)"
   ]
  },
  {
   "cell_type": "markdown",
   "metadata": {},
   "source": [
    "## 6. Variational Ansatz Circuits\n",
    "\n",
    "Different ansatz structures for variational quantum algorithms."
   ]
  },
  {
   "cell_type": "code",
   "execution_count": null,
   "metadata": {},
   "outputs": [],
   "source": [
    "# Create different variational ansätze\n",
    "ansatz_configs = [\n",
    "    {\"entanglement\": \"linear\", \"rotation_blocks\": [\"ry\", \"rz\"], \"depth\": 2},\n",
    "    {\"entanglement\": \"circular\", \"rotation_blocks\": [\"rx\", \"ry\"], \"depth\": 3},\n",
    "    {\"entanglement\": \"full\", \"rotation_blocks\": [\"ry\"], \"depth\": 2}\n",
    "]\n",
    "\n",
    "fig, axes = plt.subplots(3, 1, figsize=(12, 10))\n",
    "\n",
    "for i, config in enumerate(ansatz_configs):\n",
    "    ansatz = create_variational_ansatz(\n",
    "        num_qubits=4,\n",
    "        depth=config[\"depth\"],\n",
    "        entanglement=config[\"entanglement\"],\n",
    "        rotation_blocks=config[\"rotation_blocks\"]\n",
    "    )\n",
    "    \n",
    "    ansatz.draw(output='mpl', ax=axes[i], style='iqp')\n",
    "    axes[i].set_title(\n",
    "        f'Ansatz: {config[\"entanglement\"]} entanglement, '\n",
    "        f'{config[\"rotation_blocks\"]} rotations, depth={config[\"depth\"]}'\n",
    "    )\n",
    "\n",
    "plt.tight_layout()\n",
    "plt.show()"
   ]
  },
  {
   "cell_type": "code",
   "execution_count": null,
   "metadata": {},
   "outputs": [],
   "source": [
    "# Hardware-efficient ansatz\n",
    "hw_ansatz = create_hardware_efficient_ansatz(num_qubits=5, depth=3)\n",
    "print(\"Hardware-Efficient Ansatz:\")\n",
    "hw_ansatz.draw(output='mpl', fold=-1)"
   ]
  },
  {
   "cell_type": "markdown",
   "metadata": {},
   "source": [
    "## 7. Circuit Metrics and Analysis\n",
    "\n",
    "Analyze circuit properties using the CircuitMetrics class."
   ]
  },
  {
   "cell_type": "code",
   "execution_count": null,
   "metadata": {},
   "outputs": [],
   "source": [
    "# Analyze various circuits\n",
    "circuits_to_analyze = [\n",
    "    (\"GHZ State\", create_ghz_state(6)),\n",
    "    (\"QFT\", create_qft_circuit(5)),\n",
    "    (\"Variational\", create_variational_ansatz(4, depth=3)),\n",
    "    (\"Hardware Efficient\", create_hardware_efficient_ansatz(4, depth=2)),\n",
    "    (\"Grover (2 iterations)\", grover)\n",
    "]\n",
    "\n",
    "print(\"Circuit Metrics Analysis:\")\n",
    "print(\"-\" * 80)\n",
    "print(f\"{'Circuit Name':<20} {'Qubits':<8} {'Depth':<8} {'Gates':<8} {'CNOTs':<8} {'1Q Gates':<10} {'2Q Gates':<10}\")\n",
    "print(\"-\" * 80)\n",
    "\n",
    "for name, circuit in circuits_to_analyze:\n",
    "    metrics = CircuitMetrics.from_circuit(circuit)\n",
    "    print(f\"{name:<20} {metrics.num_qubits:<8} {metrics.depth:<8} \"\n",
    "          f\"{metrics.gate_count:<8} {metrics.cnot_count:<8} \"\n",
    "          f\"{metrics.single_qubit_gates:<10} {metrics.two_qubit_gates:<10}\")"
   ]
  },
  {
   "cell_type": "code",
   "execution_count": null,
   "metadata": {},
   "outputs": [],
   "source": [
    "# Visualize circuit depth vs gate count\n",
    "fig, (ax1, ax2) = plt.subplots(1, 2, figsize=(12, 5))\n",
    "\n",
    "# Collect metrics\n",
    "names = []\n",
    "depths = []\n",
    "gate_counts = []\n",
    "cnot_counts = []\n",
    "\n",
    "for name, circuit in circuits_to_analyze:\n",
    "    metrics = CircuitMetrics.from_circuit(circuit)\n",
    "    names.append(name)\n",
    "    depths.append(metrics.depth)\n",
    "    gate_counts.append(metrics.gate_count)\n",
    "    cnot_counts.append(metrics.cnot_count)\n",
    "\n",
    "# Plot depth\n",
    "ax1.bar(names, depths, color='skyblue')\n",
    "ax1.set_ylabel('Circuit Depth')\n",
    "ax1.set_title('Circuit Depth Comparison')\n",
    "ax1.tick_params(axis='x', rotation=45)\n",
    "\n",
    "# Plot gate counts\n",
    "x = np.arange(len(names))\n",
    "width = 0.35\n",
    "\n",
    "ax2.bar(x - width/2, gate_counts, width, label='Total Gates', color='lightcoral')\n",
    "ax2.bar(x + width/2, cnot_counts, width, label='CNOT Gates', color='lightgreen')\n",
    "ax2.set_ylabel('Gate Count')\n",
    "ax2.set_title('Gate Count Comparison')\n",
    "ax2.set_xticks(x)\n",
    "ax2.set_xticklabels(names)\n",
    "ax2.tick_params(axis='x', rotation=45)\n",
    "ax2.legend()\n",
    "\n",
    "plt.tight_layout()\n",
    "plt.show()"
   ]
  },
  {
   "cell_type": "markdown",
   "metadata": {},
   "source": [
    "## 8. Custom Circuit Building Example\n",
    "\n",
    "Combine builder patterns with custom operations for complex circuits."
   ]
  },
  {
   "cell_type": "code",
   "execution_count": null,
   "metadata": {},
   "outputs": [],
   "source": [
    "# Define a custom gate operation\n",
    "def add_controlled_rotation_cascade(circuit, control_qubit, target_qubits, angles):\n",
    "    \"\"\"Add cascading controlled rotations.\"\"\"\n",
    "    for i, (target, angle) in enumerate(zip(target_qubits, angles)):\n",
    "        circuit.cry(angle, control_qubit, target)\n",
    "        if i < len(target_qubits) - 1:\n",
    "            circuit.barrier([control_qubit, target])\n",
    "\n",
    "# Build a complex circuit using custom operations\n",
    "builder = CircuitBuilder(num_qubits=5, name=\"custom_circuit\")\n",
    "\n",
    "# Custom circuit construction\n",
    "custom_circuit = (builder\n",
    "    .add_hadamard_layer([0])  # Prepare control qubit\n",
    "    .add_custom_gate(\n",
    "        add_controlled_rotation_cascade,\n",
    "        control_qubit=0,\n",
    "        target_qubits=[1, 2, 3, 4],\n",
    "        angles=[np.pi/4, np.pi/3, np.pi/2, np.pi]\n",
    "    )\n",
    "    .add_barrier()\n",
    "    .add_entangling_layer(\"circular\")\n",
    "    .add_measurement([0, 1, 2])  # Partial measurement\n",
    "    .build()\n",
    ")\n",
    "\n",
    "print(\"Custom Circuit with Controlled Rotation Cascade:\")\n",
    "custom_circuit.draw(output='mpl', style='iqp')"
   ]
  },
  {
   "cell_type": "markdown",
   "metadata": {},
   "source": [
    "## Summary\n",
    "\n",
    "This notebook demonstrated:\n",
    "\n",
    "1. **CircuitBuilder**: Fluent interface for building quantum circuits\n",
    "2. **ParameterizedCircuitBuilder**: Creating variational circuits with parameters\n",
    "3. **Circuit Templates**: Pre-built circuits for common patterns (GHZ, QFT, Grover)\n",
    "4. **Amplitude Encoding**: Loading classical data into quantum states\n",
    "5. **Variational Ansätze**: Different structures for VQE/QAOA algorithms\n",
    "6. **Circuit Metrics**: Analyzing circuit properties and complexity\n",
    "7. **Custom Operations**: Extending builders with custom gate sequences\n",
    "\n",
    "These building blocks form the foundation for implementing quantum algorithms in the quactuary framework."
   ]
  }
 ],
 "metadata": {
  "kernelspec": {
   "display_name": "Python 3",
   "language": "python",
   "name": "python3"
  },
  "language_info": {
   "codemirror_mode": {
    "name": "ipython",
    "version": 3
   },
   "file_extension": ".py",
   "mimetype": "text/x-python",
   "name": "python",
   "nbconvert_exporter": "python",
   "pygments_lexer": "ipython3",
   "version": "3.9.0"
  }
 },
 "nbformat": 4,
 "nbformat_minor": 4
}