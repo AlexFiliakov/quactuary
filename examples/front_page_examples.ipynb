{
 "cells": [
  {
   "cell_type": "markdown",
   "id": "8707f41e",
   "metadata": {},
   "source": [
    "# Examples on the Front Page"
   ]
  },
  {
   "cell_type": "markdown",
   "id": "cc63a893",
   "metadata": {},
   "source": [
    "## Expected Loss"
   ]
  },
  {
   "cell_type": "code",
   "execution_count": 2,
   "id": "ce4b847c",
   "metadata": {},
   "outputs": [],
   "source": [
    "import os\n",
    "import sys\n",
    "\n",
    "\n",
    "sys.path.append(os.path.abspath('../'))"
   ]
  },
  {
   "cell_type": "markdown",
   "id": "1d80605e",
   "metadata": {},
   "source": [
    "## Doc Home Page Example"
   ]
  },
  {
   "cell_type": "code",
   "execution_count": 6,
   "id": "15ea2f85",
   "metadata": {},
   "outputs": [
    {
     "name": "stdout",
     "output_type": "stream",
     "text": [
      "0.18495897346170082\n",
      "0.0006065306597126335\n"
     ]
    },
    {
     "data": {
      "text/plain": [
       "{'mean': np.float64(2449951.874110688),\n",
       " 'variance': np.float64(4860457942.058481),\n",
       " 'VaR': 2565751.9589995327,\n",
       " 'TVaR': 2596372.4576630797}"
      ]
     },
     "execution_count": 6,
     "metadata": {},
     "output_type": "execute_result"
    }
   ],
   "source": [
    "import quactuary as qa\n",
    "import quactuary.book as book\n",
    "\n",
    "from datetime import date\n",
    "from quactuary.book import (\n",
    "    LOB, PolicyTerms, Inforce, Portfolio)\n",
    "from quactuary.distributions.frequency import Poisson\n",
    "from quactuary.distributions.severity import Exponential\n",
    "from quactuary.pricing import PricingModel\n",
    "\n",
    "# Frequency model example\n",
    "freq = Poisson(mu=3.5)\n",
    "print(freq.pmf(2))\n",
    "\n",
    "# Severity model example\n",
    "sev = Exponential(scale=1000.0)\n",
    "print(sev.pdf(500.0))\n",
    "\n",
    "# General Liability Bucket\n",
    "glpl_policy = PolicyTerms(\n",
    "    effective_date=date(2026, 1, 1),\n",
    "    expiration_date=date(2027, 1, 1),\n",
    "    lob=LOB.GLPL,\n",
    "    exposure_base=book.SALES,\n",
    "    exposure_amount=10_000_000_000,\n",
    "    retention_type=\"deductible\",\n",
    "    per_occ_retention=1_000_000,\n",
    "    coverage=\"occ\"\n",
    ")\n",
    "\n",
    "glpl_inforce = Inforce(\n",
    "    n_policies=700,\n",
    "    terms=glpl_policy,\n",
    "    frequency=freq,\n",
    "    severity=sev,\n",
    "    name = \"GLPL 2026 Bucket\"\n",
    ")\n",
    "\n",
    "portfolio = Portfolio(glpl_inforce)\n",
    "\n",
    "pricing = PricingModel(portfolio)\n",
    "result = pricing.simulate()\n",
    "result.estimates"
   ]
  },
  {
   "cell_type": "markdown",
   "id": "ef0acf93",
   "metadata": {},
   "source": [
    "## README.md and http://quactuary.com Examples"
   ]
  },
  {
   "cell_type": "code",
   "id": "068b2898",
   "metadata": {},
   "outputs": [],
   "source": "import quactuary as qa\nimport quactuary.book as book\n\nfrom datetime import date\nfrom quactuary.backend import set_backend\nfrom quactuary.book import (\n    ExposureBase, LOB, PolicyTerms, Inforce, Portfolio)\nfrom quactuary.distributions.frequency import Poisson, NegativeBinomial\nfrom quactuary.distributions.severity import Pareto, Lognormal\nfrom quactuary.pricing import PricingModel\n\n\n# Workers' Comp Bucket\nwc_policy = PolicyTerms(\n    effective_date=date(2026, 1, 1),\n    expiration_date=date(2027, 1, 1),\n    lob=LOB.WC,\n    exposure_base=book.PAYROLL,\n    exposure_amount=100_000_000,\n    retention_type=\"deductible\",\n    per_occ_retention=500_000,\n    coverage=\"occ\"\n)\n\n# General Liability Bucket\nglpl_policy = PolicyTerms(\n    effective_date=date(2026, 1, 1),\n    expiration_date=date(2027, 1, 1),\n    lob=LOB.GLPL,\n    exposure_base=book.SALES,\n    exposure_amount=10_000_000_000,\n    retention_type=\"deductible\",\n    per_occ_retention=1_000_000,\n    coverage=\"occ\"\n)\n\n# Frequency-Severity Distributions\nwc_freq = Poisson(mu=100)\nwc_sev = Pareto(b=1, loc=0, scale=40_000)\n\nglpl_freq = NegativeBinomial(r=50, p=0.5)\nglpl_sev = Lognormal(shape=2, loc=0, scale=100_000)\n\n# Book of Business\nwc_inforce = Inforce(\n    n_policies=1000,\n    terms=wc_policy,\n    frequency=wc_freq,\n    severity=wc_sev,\n    name = \"WC 2026 Bucket\"\n)\n\nglpl_inforce = Inforce(\n    n_policies=700,\n    terms=glpl_policy,\n    frequency=glpl_freq,\n    severity=glpl_sev,\n    name = \"GLPL 2026 Bucket\"\n)\n\nportfolio = wc_inforce + glpl_inforce\n\npm = PricingModel(portfolio)\n\n# Test using Classical Monte Carlo\nset_backend(\"classical\")\nclassical_result = pm.simulate(n_sims=1_000)\nclassical_mean = classical_result.estimates[\"mean\"]\nprint(f\"Classical portfolio expected loss: {classical_mean}\")"
  },
  {
   "cell_type": "markdown",
   "id": "231a9064",
   "metadata": {},
   "source": [
    "## Risk Measures"
   ]
  },
  {
   "cell_type": "code",
   "id": "19028379",
   "metadata": {},
   "outputs": [],
   "source": "from quactuary.backend import use_backend\nfrom quactuary.distributions.frequency import Geometric\nfrom quactuary.distributions.severity import ContinuousUniformSeverity\n\n\n# Commercial Auto Bucket\ncauto_policy = PolicyTerms(\n    effective_date=date(2026, 1, 1),\n    expiration_date=date(2027, 1, 1),\n    lob=LOB.CAuto,\n    exposure_base=book.VEHICLES,\n    exposure_amount=50,\n    retention_type=\"deductible\",\n    per_occ_retention=100_000,\n    coverage=\"occ\"\n)\n\n# Frequency-Severity Distributions\ncauto_freq = Geometric(p=1/8)\ncauto_sev = ContinuousUniformSeverity(loc=5_000, scale=90_000)  # scale is width, not upper bound\n\n# Commercial Auto Inforce\ncauto_inforce = Inforce(\n    n_policies=400,\n    terms=cauto_policy,\n    frequency=cauto_freq,\n    severity=cauto_sev,\n    name = \"CAuto 2026 Bucket\"\n)\n\n# Add to Existing Portfolio\nportfolio += cauto_inforce\npm2 = PricingModel(portfolio)\n\n# Test using Classical Monte Carlo\nwith use_backend(\"classical\", num_simulations=1_000):\n    classical_result = pm2.simulate(tail_alpha=0.05, n_sims=1_000)\n    classical_VaR = classical_result.estimates[\"VaR\"]\n    classical_TVaR = classical_result.estimates[\"TVaR\"]\n    print(f\"Classical portfolio VaR: {classical_VaR}\")\n    print(f\"Classical portfolio TVaR: {classical_TVaR}\")"
  }
 ],
 "metadata": {
  "kernelspec": {
   "display_name": "myenv",
   "language": "python",
   "name": "python3"
  },
  "language_info": {
   "codemirror_mode": {
    "name": "ipython",
    "version": 3
   },
   "file_extension": ".py",
   "mimetype": "text/x-python",
   "name": "python",
   "nbconvert_exporter": "python",
   "pygments_lexer": "ipython3",
   "version": "3.12.7"
  }
 },
 "nbformat": 4,
 "nbformat_minor": 5
}