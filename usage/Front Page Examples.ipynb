{
 "cells": [
  {
   "cell_type": "markdown",
   "id": "8707f41e",
   "metadata": {},
   "source": [
    "# Examples on the Front Page"
   ]
  },
  {
   "cell_type": "markdown",
   "id": "cc63a893",
   "metadata": {},
   "source": [
    "## Expected Loss"
   ]
  },
  {
   "cell_type": "code",
   "execution_count": 1,
   "id": "ce4b847c",
   "metadata": {},
   "outputs": [],
   "source": [
    "import os\n",
    "import sys\n",
    "\n",
    "\n",
    "sys.path.append(os.path.abspath('../'))"
   ]
  },
  {
   "cell_type": "code",
   "execution_count": null,
   "id": "068b2898",
   "metadata": {},
   "outputs": [
    {
     "name": "stdout",
     "output_type": "stream",
     "text": [
      "Classical portfolio expected loss: 115557736308.56332\n"
     ]
    }
   ],
   "source": [
    "import quactuary as qa\n",
    "import quactuary.book as book\n",
    "\n",
    "from datetime import date\n",
    "from quactuary.backend import set_backend\n",
    "from quactuary.book import (\n",
    "    ExposureBase, LOB, PolicyTerms, Inforce, Portfolio)\n",
    "from quactuary.distributions.frequency import Poisson, NegativeBinomial\n",
    "from quactuary.distributions.severity import Pareto, Lognormal\n",
    "from quactuary.pricing import PricingModel\n",
    "\n",
    "\n",
    "# Workers’ Comp Bucket\n",
    "wc_policy = PolicyTerms(\n",
    "    effective_date=date(2026, 1, 1),\n",
    "    expiration_date=date(2027, 1, 1),\n",
    "    lob=LOB.WC,\n",
    "    exposure_base=book.PAYROLL,\n",
    "    exposure_amount=100_000_000,\n",
    "    retention_type=\"deductible\",\n",
    "    per_occ_retention=500_000,\n",
    "    coverage=\"occ\"\n",
    ")\n",
    "\n",
    "# General Liability Bucket\n",
    "glpl_policy = PolicyTerms(\n",
    "    effective_date=date(2026, 1, 1),\n",
    "    expiration_date=date(2027, 1, 1),\n",
    "    lob=LOB.GLPL,\n",
    "    exposure_base=book.SALES,\n",
    "    exposure_amount=10_000_000_000,\n",
    "    retention_type=\"deductible\",\n",
    "    per_occ_retention=1_000_000,\n",
    "    coverage=\"occ\"\n",
    ")\n",
    "\n",
    "# Frequency-Severity Distributions\n",
    "wc_freq = Poisson(100)\n",
    "wc_sev = Pareto(1, 0, 40_000)\n",
    "\n",
    "glpl_freq = NegativeBinomial(50, 0.5)\n",
    "glpl_sev = Lognormal(2, 0, 100_000)\n",
    "\n",
    "# Book of Business\n",
    "wc_inforce = Inforce(\n",
    "    n_policies=1000,\n",
    "    terms=wc_policy,\n",
    "    frequency=wc_freq,\n",
    "    severity=wc_sev,\n",
    "    name = \"WC 2026 Bucket\"\n",
    ")\n",
    "\n",
    "glpl_inforce = Inforce(\n",
    "    n_policies=700,\n",
    "    terms=glpl_policy,\n",
    "    frequency=glpl_freq,\n",
    "    severity=glpl_sev,\n",
    "    name = \"GLPL 2026 Bucket\"\n",
    ")\n",
    "\n",
    "portfolio = wc_inforce + glpl_inforce\n",
    "\n",
    "pm = PricingModel(portfolio)\n",
    "\n",
    "# Test using Classical Monte Carlo\n",
    "set_backend(\"classical\")\n",
    "classical_result = pm.simulate(n_sims=1_000)\n",
    "classical_mean = classical_result.estimates[\"mean\"]\n",
    "print(f\"Classical portfolio expected loss: {classical_mean}\")"
   ]
  },
  {
   "cell_type": "markdown",
   "id": "231a9064",
   "metadata": {},
   "source": [
    "## Risk Measures"
   ]
  },
  {
   "cell_type": "code",
   "execution_count": 4,
   "id": "19028379",
   "metadata": {},
   "outputs": [
    {
     "name": "stdout",
     "output_type": "stream",
     "text": [
      "Classical portfolio VaR: 166575766183.6848\n",
      "Classical portfolio TVaR: 5490672479515.086\n"
     ]
    }
   ],
   "source": [
    "from quactuary.backend import use_backend\n",
    "from quactuary.distributions.frequency import Geometric\n",
    "from quactuary.distributions.severity import ContinuousUniformSeverity\n",
    "\n",
    "\n",
    "# Commercial Auto Bucket\n",
    "cauto_policy = PolicyTerms(\n",
    "    effective_date=date(2026, 1, 1),\n",
    "    expiration_date=date(2027, 1, 1),\n",
    "    lob=LOB.CAuto,\n",
    "    exposure_base=book.VEHICLES,\n",
    "    exposure_amount=50,\n",
    "    retention_type=\"deductible\",\n",
    "    per_occ_retention=100_000,\n",
    "    coverage=\"occ\"\n",
    ")\n",
    "\n",
    "# Frequency-Severity Distributions\n",
    "cauto_freq = Geometric(1/8)\n",
    "cauto_sev = ContinuousUniformSeverity(5_000, 95_000)\n",
    "\n",
    "# Commercial Auto Inforce\n",
    "cauto_inforce = Inforce(\n",
    "    n_policies=400,\n",
    "    terms=cauto_policy,\n",
    "    frequency=cauto_freq,\n",
    "    severity=cauto_sev,\n",
    "    name = \"CAuto 2026 Bucket\"\n",
    ")\n",
    "\n",
    "# Add to Existing Portfolio\n",
    "portfolio += cauto_inforce\n",
    "pm2 = PricingModel(portfolio)\n",
    "\n",
    "# Test using Classical Monte Carlo\n",
    "with use_backend(\"classical\", num_simulations=1_000):\n",
    "    classical_result = pm2.simulate(tail_alpha=0.05, n_sims=1_000)\n",
    "    classical_VaR = classical_result.estimates[\"VaR\"]\n",
    "    classical_TVaR = classical_result.estimates[\"TVaR\"]\n",
    "    print(f\"Classical portfolio VaR: {classical_VaR}\")\n",
    "    print(f\"Classical portfolio TVaR: {classical_TVaR}\")"
   ]
  }
 ],
 "metadata": {
  "kernelspec": {
   "display_name": "myenv",
   "language": "python",
   "name": "python3"
  },
  "language_info": {
   "codemirror_mode": {
    "name": "ipython",
    "version": 3
   },
   "file_extension": ".py",
   "mimetype": "text/x-python",
   "name": "python",
   "nbconvert_exporter": "python",
   "pygments_lexer": "ipython3",
   "version": "3.12.7"
  }
 },
 "nbformat": 4,
 "nbformat_minor": 5
}
