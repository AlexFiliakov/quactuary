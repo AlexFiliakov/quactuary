{
 "cells": [
  {
   "cell_type": "markdown",
   "id": "d3c3369d",
   "metadata": {},
   "source": [
    "# Portfolio Example Usage"
   ]
  },
  {
   "cell_type": "code",
   "execution_count": 1,
   "id": "c92f43fd",
   "metadata": {},
   "outputs": [],
   "source": [
    "import os\n",
    "import sys\n",
    "\n",
    "\n",
    "sys.path.append(os.path.abspath('../'))"
   ]
  },
  {
   "cell_type": "code",
   "execution_count": 2,
   "id": "f271bbad",
   "metadata": {},
   "outputs": [],
   "source": [
    "import quactuary as qa\n",
    "\n",
    "from quactuary.book import (\n",
    "    ExposureBase, LOB, PolicyTerms, Inforce, Portfolio)\n",
    "from quactuary.distributions.frequency import Poisson, NegativeBinomial\n",
    "from quactuary.distributions.severity import Pareto, Lognormal"
   ]
  },
  {
   "cell_type": "code",
   "execution_count": 3,
   "id": "47447de2",
   "metadata": {},
   "outputs": [],
   "source": [
    "wc_policy = PolicyTerms(\n",
    "    effective_date='2026-01-01',\n",
    "    expiration_date='2027-01-01',\n",
    "    lob=LOB.WC,\n",
    "    exposure_base=qa.book.PAYROLL,\n",
    "    exposure_amount=100_000_000,\n",
    "    retention_type=\"deductible\",\n",
    "    per_occ_retention=500_000,\n",
    "    coverage=\"occ\"\n",
    ")\n",
    "\n",
    "glpl_policy = PolicyTerms(\n",
    "    effective_date='2026-01-01',\n",
    "    expiration_date='2027-01-01',\n",
    "    lob=LOB.GLPL,\n",
    "    exposure_base=qa.book.SALES,\n",
    "    exposure_amount=10_000_000_000,\n",
    "    retention_type=\"deductible\",\n",
    "    per_occ_retention=1_000_000,\n",
    "    coverage=\"occ\"\n",
    ")\n",
    "\n",
    "cauto_policy = PolicyTerms(\n",
    "    effective_date='2026-01-01',\n",
    "    expiration_date='2027-01-01',\n",
    "    lob=LOB.CAuto,\n",
    "    exposure_base=qa.book.VEHICLES,\n",
    "    exposure_amount=50,\n",
    "    retention_type=\"deductible\",\n",
    "    per_occ_retention=100_000,\n",
    "    coverage=\"occ\"\n",
    ")"
   ]
  },
  {
   "cell_type": "code",
   "execution_count": 4,
   "id": "aca18dd0",
   "metadata": {},
   "outputs": [],
   "source": [
    "wc_freq = Poisson(100)\n",
    "wc_sev = Pareto(0, 40_000)\n",
    "\n",
    "glpl_freq = NegativeBinomial(50, 0.5)\n",
    "glpl_sev = Lognormal(2, 0, 100_000)\n",
    "\n",
    "cauto_freq = Poisson(3)\n",
    "cauto_sev = Lognormal(1.5, 0, 50_000)"
   ]
  },
  {
   "cell_type": "code",
   "execution_count": 5,
   "id": "344834f1",
   "metadata": {},
   "outputs": [],
   "source": [
    "wc_inforce = Inforce(\n",
    "    n_policies=1000,\n",
    "    terms=wc_policy,\n",
    "    frequency=wc_freq,\n",
    "    severity=wc_sev,\n",
    "    name = \"WC 2026 Bucket\"\n",
    ")\n",
    "\n",
    "glpl_inforce = Inforce(\n",
    "    n_policies=700,\n",
    "    terms=glpl_policy,\n",
    "    frequency=glpl_freq,\n",
    "    severity=glpl_sev,\n",
    "    name = \"GLPL 2026 Bucket\"\n",
    ")\n",
    "\n",
    "cauto_inforce = Inforce(\n",
    "    n_policies=400,\n",
    "    terms=cauto_policy,\n",
    "    frequency=cauto_freq,\n",
    "    severity=cauto_sev,\n",
    "    name = \"CAuto 2026 Bucket\"\n",
    ")\n",
    "\n",
    "portfolio = wc_inforce + glpl_inforce + cauto_inforce"
   ]
  },
  {
   "cell_type": "code",
   "execution_count": 6,
   "id": "18306788",
   "metadata": {},
   "outputs": [
    {
     "name": "stdout",
     "output_type": "stream",
     "text": [
      "Bucket: WC 2026 Bucket\n",
      "- Number of Policies: 1,000\n",
      "- Frequency Model: <quactuary.distributions.frequency.Poisson object at 0x000001A746BAC110>\n",
      "- Severity Model: <quactuary.distributions.severity.Pareto object at 0x000001A746BACE90>\n",
      "- Policy Terms:\n",
      "  - Effective Date: 2026-01-01\n",
      "  - Expiration Date: 2027-01-01\n",
      "  - LoB: Workers' Compensation\n",
      "  - Exposure Base: ExposureBase(name='Payroll', unit='USD', description='Total payroll amount.')\n",
      "  - Exposure Amount: 100,000,000\n",
      "  - Retention Type: deductible\n",
      "  - Per-Occurrence Retention: 500,000\n",
      "  - Coverage: occ\n",
      "  - Notes: \n",
      "Bucket: GLPL 2026 Bucket\n",
      "- Number of Policies: 700\n",
      "- Frequency Model: <quactuary.distributions.frequency.NegativeBinomial object at 0x000001A746BACB00>\n",
      "- Severity Model: <quactuary.distributions.severity.Lognormal object at 0x000001A746BAD130>\n",
      "- Policy Terms:\n",
      "  - Effective Date: 2026-01-01\n",
      "  - Expiration Date: 2027-01-01\n",
      "  - LoB: General and Product Liability\n",
      "  - Exposure Base: ExposureBase(name='Sales', unit='USD', description='Total sales amount.')\n",
      "  - Exposure Amount: 10,000,000,000\n",
      "  - Retention Type: deductible\n",
      "  - Per-Occurrence Retention: 1,000,000\n",
      "  - Coverage: occ\n",
      "  - Notes: \n",
      "Bucket: CAuto 2026 Bucket\n",
      "- Number of Policies: 400\n",
      "- Frequency Model: <quactuary.distributions.frequency.Poisson object at 0x000001A746BAD4C0>\n",
      "- Severity Model: <quactuary.distributions.severity.Lognormal object at 0x000001A746BAD490>\n",
      "- Policy Terms:\n",
      "  - Effective Date: 2026-01-01\n",
      "  - Expiration Date: 2027-01-01\n",
      "  - LoB: Auto Liability\n",
      "  - Exposure Base: ExposureBase(name='Vehicles', unit='count', description='Total number of vehicles.')\n",
      "  - Exposure Amount: 50\n",
      "  - Retention Type: deductible\n",
      "  - Per-Occurrence Retention: 100,000\n",
      "  - Coverage: occ\n",
      "  - Notes: \n",
      "\n"
     ]
    }
   ],
   "source": [
    "print(portfolio)"
   ]
  },
  {
   "cell_type": "code",
   "execution_count": 7,
   "id": "d83c8ae6",
   "metadata": {},
   "outputs": [
    {
     "name": "stdout",
     "output_type": "stream",
     "text": [
      "Bucket: WC 2026 Bucket\n",
      "- Number of Policies: 1,000\n",
      "- Frequency Model: <quactuary.distributions.frequency.Poisson object at 0x000001A746BAC110>\n",
      "- Severity Model: <quactuary.distributions.severity.Pareto object at 0x000001A746BACE90>\n",
      "- Policy Terms:\n",
      "  - Effective Date: 2026-01-01\n",
      "  - Expiration Date: 2027-01-01\n",
      "  - LoB: Workers' Compensation\n",
      "  - Exposure Base: ExposureBase(name='Payroll', unit='USD', description='Total payroll amount.')\n",
      "  - Exposure Amount: 100,000,000\n",
      "  - Retention Type: deductible\n",
      "  - Per-Occurrence Retention: 500,000\n",
      "  - Coverage: occ\n",
      "  - Notes: \n",
      "\n"
     ]
    }
   ],
   "source": [
    "print(wc_inforce)"
   ]
  }
 ],
 "metadata": {
  "kernelspec": {
   "display_name": "myenv",
   "language": "python",
   "name": "python3"
  },
  "language_info": {
   "codemirror_mode": {
    "name": "ipython",
    "version": 3
   },
   "file_extension": ".py",
   "mimetype": "text/x-python",
   "name": "python",
   "nbconvert_exporter": "python",
   "pygments_lexer": "ipython3",
   "version": "3.12.7"
  }
 },
 "nbformat": 4,
 "nbformat_minor": 5
}
