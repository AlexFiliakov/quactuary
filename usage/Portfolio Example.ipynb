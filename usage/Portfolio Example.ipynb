{
 "cells": [
  {
   "cell_type": "markdown",
   "id": "d3c3369d",
   "metadata": {},
   "source": [
    "# Portfolio Example Usage"
   ]
  },
  {
   "cell_type": "code",
   "execution_count": 1,
   "id": "c92f43fd",
   "metadata": {},
   "outputs": [],
   "source": [
    "import os\n",
    "import sys\n",
    "\n",
    "\n",
    "sys.path.append(os.path.abspath('../'))"
   ]
  },
  {
   "cell_type": "code",
   "execution_count": 2,
   "id": "f271bbad",
   "metadata": {},
   "outputs": [],
   "source": [
    "import quactuary as qa\n",
    "\n",
    "from quactuary.book import (\n",
    "    ExposureBase, LOB, PolicyTerms, Inforce, Portfolio)\n",
    "from quactuary.distributions.frequency import Poisson, NegativeBinomial\n",
    "from quactuary.distributions.severity import Pareto, Lognormal"
   ]
  },
  {
   "cell_type": "code",
   "execution_count": 3,
   "id": "47447de2",
   "metadata": {},
   "outputs": [],
   "source": [
    "wc_policy = qa.book.PolicyTerms(\n",
    "    effective_date='2026-01-01',\n",
    "    expiration_date='2027-01-01',\n",
    "    lob=LOB.WC,\n",
    "    exposure_base=qa.book.PAYROLL,\n",
    "    exposure_amount=100_000_000,\n",
    "    retention_type=\"deductible\",\n",
    "    per_occ_retention=500_000,\n",
    "    coverage=\"occ\"\n",
    ")\n",
    "\n",
    "glpl_policy = qa.book.PolicyTerms(\n",
    "    effective_date='2026-01-01',\n",
    "    expiration_date='2027-01-01',\n",
    "    lob=LOB.GLPL,\n",
    "    exposure_base=qa.book.SALES,\n",
    "    exposure_amount=10_000_000_000,\n",
    "    retention_type=\"deductible\",\n",
    "    per_occ_retention=1_000_000,\n",
    "    coverage=\"occ\"\n",
    ")"
   ]
  },
  {
   "cell_type": "code",
   "execution_count": 4,
   "id": "aca18dd0",
   "metadata": {},
   "outputs": [],
   "source": [
    "wc_freq = Poisson(100)\n",
    "wc_sev = Pareto(0, 40_000)\n",
    "\n",
    "glpl_freq = NegativeBinomial(50, 0.5)\n",
    "glpl_sev = Lognormal(2, 0, 100_000)"
   ]
  },
  {
   "cell_type": "code",
   "execution_count": 5,
   "id": "344834f1",
   "metadata": {},
   "outputs": [],
   "source": [
    "wc_inforce = Inforce(\n",
    "    n_policies=1000,\n",
    "    terms=wc_policy,\n",
    "    frequency=wc_freq,\n",
    "    severity=wc_sev,\n",
    "    name = \"WC 2026 Bucket\"\n",
    ")\n",
    "\n",
    "glpl_inforce = Inforce(\n",
    "    n_policies=700,\n",
    "    terms=glpl_policy,\n",
    "    frequency=glpl_freq,\n",
    "    severity=glpl_sev,\n",
    "    name = \"GLPL 2026 Bucket\"\n",
    ")\n",
    "\n",
    "portfolio = Portfolio([wc_inforce, glpl_inforce])"
   ]
  },
  {
   "cell_type": "code",
   "execution_count": 6,
   "id": "18306788",
   "metadata": {},
   "outputs": [
    {
     "data": {
      "text/plain": [
       "[Inforce(n_policies=1000, terms=PolicyTerms(effective_date='2026-01-01', expiration_date='2027-01-01', lob=<LOB.WC: \"Workers' Compensation\">, exposure_base=ExposureBase(name='Payroll', unit='USD', description='Total payroll amount.'), exposure_amount=100000000, retention_type='deductible', per_occ_retention=500000, agg_retention=None, corridor_retention=None, coinsurance=None, per_occ_limit=None, agg_limit=None, attachment=0.0, coverage='occ', notes=''), frequency=<quactuary.distributions.frequency.Poisson object at 0x000002A9CA47AEA0>, severity=<quactuary.distributions.severity.Pareto object at 0x000002A9C8CB33B0>, name='WC 2026 Bucket'),\n",
       " Inforce(n_policies=700, terms=PolicyTerms(effective_date='2026-01-01', expiration_date='2027-01-01', lob=<LOB.GLPL: 'General and Product Liability'>, exposure_base=ExposureBase(name='Sales', unit='USD', description='Total sales amount.'), exposure_amount=10000000000, retention_type='deductible', per_occ_retention=1000000, agg_retention=None, corridor_retention=None, coinsurance=None, per_occ_limit=None, agg_limit=None, attachment=0.0, coverage='occ', notes=''), frequency=<quactuary.distributions.frequency.NegativeBinomial object at 0x000002A9CA4D1910>, severity=<quactuary.distributions.severity.Lognormal object at 0x000002A9CA4D1520>, name='GLPL 2026 Bucket')]"
      ]
     },
     "execution_count": 6,
     "metadata": {},
     "output_type": "execute_result"
    }
   ],
   "source": [
    "portfolio"
   ]
  }
 ],
 "metadata": {
  "kernelspec": {
   "display_name": "myenv",
   "language": "python",
   "name": "python3"
  },
  "language_info": {
   "codemirror_mode": {
    "name": "ipython",
    "version": 3
   },
   "file_extension": ".py",
   "mimetype": "text/x-python",
   "name": "python",
   "nbconvert_exporter": "python",
   "pygments_lexer": "ipython3",
   "version": "3.12.7"
  }
 },
 "nbformat": 4,
 "nbformat_minor": 5
}
